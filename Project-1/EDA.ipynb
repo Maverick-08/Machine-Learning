{
  "nbformat": 4,
  "nbformat_minor": 0,
  "metadata": {
    "colab": {
      "provenance": []
    },
    "kernelspec": {
      "name": "python3",
      "display_name": "Python 3"
    },
    "language_info": {
      "name": "python"
    }
  },
  "cells": [
    {
      "cell_type": "markdown",
      "source": [
        "# EXPLORATORY DATA ANALYSIS ON LICHESS DATA"
      ],
      "metadata": {
        "id": "XdBYoQ137xRd"
      }
    },
    {
      "cell_type": "code",
      "source": [],
      "metadata": {
        "id": "7rAcdRb28HpO"
      },
      "execution_count": null,
      "outputs": []
    },
    {
      "cell_type": "code",
      "source": [],
      "metadata": {
        "id": "GECglc4R8FYu"
      },
      "execution_count": null,
      "outputs": []
    }
  ]
}